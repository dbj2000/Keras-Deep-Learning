{
  "nbformat": 4,
  "nbformat_minor": 0,
  "metadata": {
    "kernelspec": {
      "display_name": "Python 3",
      "language": "python",
      "name": "python3"
    },
    "language_info": {
      "codemirror_mode": {
        "name": "ipython",
        "version": 3
      },
      "file_extension": ".py",
      "mimetype": "text/x-python",
      "name": "python",
      "nbconvert_exporter": "python",
      "pygments_lexer": "ipython3",
      "version": "3.7.6"
    },
    "colab": {
      "name": "과대적합과 과소적합.ipynb",
      "provenance": [],
      "collapsed_sections": []
    }
  },
  "cells": [
    {
      "cell_type": "markdown",
      "metadata": {
        "id": "IlYQe-p7HykO"
      },
      "source": [
        "## **과대적합/ 과소적합 방지**"
      ]
    },
    {
      "cell_type": "markdown",
      "metadata": {
        "id": "aHnXodfxHykQ"
      },
      "source": [
        "이전 Binary Classification의 IMDB 데이터셋 로드하기"
      ]
    },
    {
      "cell_type": "code",
      "metadata": {
        "id": "Mcl9e34WHykW",
        "outputId": "3a5a9bd0-2d4a-4ce0-b925-4f9a713a3cf0",
        "colab": {
          "base_uri": "https://localhost:8080/"
        }
      },
      "source": [
        "from keras.datasets import imdb\n",
        "\n",
        "(train_data, train_labels), (test_data, test_labels) = imdb.load_data(num_words=10000)"
      ],
      "execution_count": 1,
      "outputs": [
        {
          "output_type": "stream",
          "text": [
            "Downloading data from https://storage.googleapis.com/tensorflow/tf-keras-datasets/imdb.npz\n",
            "17465344/17464789 [==============================] - 0s 0us/step\n"
          ],
          "name": "stdout"
        }
      ]
    },
    {
      "cell_type": "code",
      "metadata": {
        "id": "GCQzM7qCNICq",
        "outputId": "f01ba625-f137-4f61-bc6f-20c066813f98",
        "colab": {
          "base_uri": "https://localhost:8080/"
        }
      },
      "source": [
        "train_data.shape"
      ],
      "execution_count": 2,
      "outputs": [
        {
          "output_type": "execute_result",
          "data": {
            "text/plain": [
              "(25000,)"
            ]
          },
          "metadata": {
            "tags": []
          },
          "execution_count": 2
        }
      ]
    },
    {
      "cell_type": "markdown",
      "metadata": {
        "id": "sDu4ABiWuj2x"
      },
      "source": [
        "### 데이터 준비"
      ]
    },
    {
      "cell_type": "code",
      "metadata": {
        "id": "fEz55aohujVU"
      },
      "source": [
        "# 정수 시퀀스를 이진 행렬로 인코딩하기\n",
        "import numpy as np\n",
        "\n",
        "def vectorize_sequences(sequences, dimension=10000):\n",
        "  results = np.zeros((len(sequences), dimension))\n",
        "  for i, sequence in enumerate(sequences):\n",
        "    results[i, sequence]=1 # results[i] 에서 특정 인덱스 위치를 1로 만듦\n",
        "  return results \n",
        "\n",
        "# 벡터로 변환\n",
        "x_train = vectorize_sequences(train_data)\n",
        "x_test = vectorize_sequences(test_data)\n"
      ],
      "execution_count": 5,
      "outputs": []
    },
    {
      "cell_type": "code",
      "metadata": {
        "id": "pd067m2KupCF"
      },
      "source": [
        "# 레이블도 벡터로 변환\n",
        "y_train = np.asarray(train_labels).astype('float32')\n",
        "y_test = np.asarray(test_labels).astype('float32')"
      ],
      "execution_count": 6,
      "outputs": []
    },
    {
      "cell_type": "markdown",
      "metadata": {
        "id": "oLL8OPDqO5-e"
      },
      "source": [
        "### 신경망 모델 만들기\n",
        "- 16개의 hidden unit을 가진 2개의 hidden layer\n",
        "- 리뷰 감정을 스칼라 값의 예측으로 출력하는 3번째 층"
      ]
    },
    {
      "cell_type": "markdown",
      "metadata": {
        "id": "I0wUkGBJso1K"
      },
      "source": [
        "### 1. 네트워크 크기 축소"
      ]
    },
    {
      "cell_type": "code",
      "metadata": {
        "id": "RAuwehRFO4YI"
      },
      "source": [
        "from keras import models\n",
        "from keras import layers\n",
        "\n",
        "# 원래 모델\n",
        "model = models.Sequential()\n",
        "model.add(layers.Dense(16, activation='relu', input_shape=(10000,)))\n",
        "model.add(layers.Dense(16, activation='relu'))\n",
        "model.add(layers.Dense(1, activation='sigmoid'))\n",
        "\n",
        "# 축소된 모델\n",
        "smodel = models.Sequential()\n",
        "smodel.add(layers.Dense(6, activation='relu', input_shape = (10000, )))\n",
        "smodel.add(layers.Dense(6, activation='relu'))\n",
        "smodel.add(layers.Dense(1, activation='sigmoid'))"
      ],
      "execution_count": 3,
      "outputs": []
    },
    {
      "cell_type": "code",
      "metadata": {
        "id": "FgYEb8FJRGHK"
      },
      "source": [
        "from keras import optimizers\n",
        "from keras import losses\n",
        "from keras import metrics\n",
        "\n",
        "# 원래 모델 컴파일\n",
        "model.compile(optimizer=optimizers.RMSprop(lr=0.001),\n",
        "              loss=losses.binary_crossentropy,\n",
        "              metrics=[metrics.binary_accuracy])\n",
        "\n",
        "# 축소된 모델 컴파일\n",
        "smodel.compile(optimizer=optimizers.RMSprop(lr=0.001),\n",
        "              loss=losses.binary_crossentropy,\n",
        "              metrics=[metrics.binary_accuracy])"
      ],
      "execution_count": 4,
      "outputs": []
    },
    {
      "cell_type": "markdown",
      "metadata": {
        "id": "Um3kmrLeTlWm"
      },
      "source": [
        "### 훈련 검증"
      ]
    },
    {
      "cell_type": "code",
      "metadata": {
        "id": "JyC55cLPTVed"
      },
      "source": [
        "# validation set 준비\n",
        "x_val = x_train[:10000]\n",
        "partial_x_train = x_train[10000:]\n",
        "y_val = y_train[:10000]\n",
        "partial_y_train = y_train[10000:]"
      ],
      "execution_count": 7,
      "outputs": []
    },
    {
      "cell_type": "code",
      "metadata": {
        "id": "FNmlZKZ7UkT4"
      },
      "source": [
        "history1 = model.fit(partial_x_train,\n",
        "                    partial_y_train,\n",
        "                    epochs = 20,\n",
        "                    batch_size=512,\n",
        "                    validation_data = (x_val, y_val),\n",
        "                    verbose = 0)"
      ],
      "execution_count": 8,
      "outputs": []
    },
    {
      "cell_type": "code",
      "metadata": {
        "id": "5OjN-jpvxb3i"
      },
      "source": [
        "history2 = smodel.fit(partial_x_train,\n",
        "                    partial_y_train,\n",
        "                    epochs = 20,\n",
        "                    batch_size=512,\n",
        "                    validation_data = (x_val, y_val),\n",
        "                    verbose = 0)"
      ],
      "execution_count": 9,
      "outputs": []
    },
    {
      "cell_type": "code",
      "metadata": {
        "id": "eANZUXllVuaz",
        "outputId": "b8bdcd49-b4e1-4b2a-9096-d42833140058",
        "colab": {
          "base_uri": "https://localhost:8080/"
        }
      },
      "source": [
        "# model.fit()이 반환하는 history객체 확인\n",
        "history_dict = history1.history\n",
        "history_dict.keys()"
      ],
      "execution_count": 11,
      "outputs": [
        {
          "output_type": "execute_result",
          "data": {
            "text/plain": [
              "dict_keys(['loss', 'binary_accuracy', 'val_loss', 'val_binary_accuracy'])"
            ]
          },
          "metadata": {
            "tags": []
          },
          "execution_count": 11
        }
      ]
    },
    {
      "cell_type": "code",
      "metadata": {
        "id": "Q6xWODSj8l-i",
        "outputId": "fd614e0d-7e93-40a1-8b37-a32f58c8632b",
        "colab": {
          "base_uri": "https://localhost:8080/",
          "height": 279
        }
      },
      "source": [
        "# 검증 손실 그리기\n",
        "import matplotlib.pyplot as plt\n",
        "\n",
        "history_dict1 = history1.history\n",
        "history_dict2 = history2.history\n",
        "loss1 = history_dict1['val_loss']\n",
        "loss2 = history_dict2['val_loss']\n",
        "\n",
        "epochs = range(1, len(loss1)+1)\n",
        "\n",
        "plt.plot(epochs, loss1, 'b+', label='Orininal model')  \n",
        "plt.plot(epochs, loss2, 'bo', label='Smaller model') \n",
        "plt.xlabel('Epochs')\n",
        "plt.ylabel('Validation Loss')\n",
        "plt.legend()\n",
        "\n",
        "plt.show()"
      ],
      "execution_count": 21,
      "outputs": [
        {
          "output_type": "display_data",
          "data": {
            "image/png": "[encoded data removed]",
            "text/plain": [
              "<Figure size 432x288 with 1 Axes>"
            ]
          },
          "metadata": {
            "tags": [],
            "needs_background": "light"
          }
        }
      ]
    },
    {
      "cell_type": "markdown",
      "metadata": {
        "id": "XFaWnY25y7Lw"
      },
      "source": [
        "축소된 네트워크가 더 나중에 과적합됨"
      ]
    },
    {
      "cell_type": "markdown",
      "metadata": {
        "id": "uOA-HhB4zIIr"
      },
      "source": [
        "### 2. 네트워크 크기 확장"
      ]
    },
    {
      "cell_type": "code",
      "metadata": {
        "id": "xeSJftwQzS9c"
      },
      "source": [
        "# 확장된 모델\n",
        "bmodel = models.Sequential()\n",
        "bmodel.add(layers.Dense(1024, activation='relu', input_shape = (10000, )))\n",
        "bmodel.add(layers.Dense(1024, activation='relu'))\n",
        "bmodel.add(layers.Dense(1, activation='sigmoid'))\n",
        "\n",
        "# 확장된 모델 컴파일\n",
        "bmodel.compile(optimizer=optimizers.RMSprop(lr=0.001),\n",
        "              loss=losses.binary_crossentropy,\n",
        "              metrics=[metrics.binary_accuracy])"
      ],
      "execution_count": 17,
      "outputs": []
    },
    {
      "cell_type": "code",
      "metadata": {
        "id": "VtaS8Y2rzkJF"
      },
      "source": [
        "history3 = bmodel.fit(partial_x_train,\n",
        "                    partial_y_train,\n",
        "                    epochs = 20,\n",
        "                    batch_size=512,\n",
        "                    validation_data = (x_val, y_val),\n",
        "                    verbose = 0)"
      ],
      "execution_count": 18,
      "outputs": []
    },
    {
      "cell_type": "code",
      "metadata": {
        "id": "PA0gVZ10zoHo",
        "outputId": "2dabb22e-b30d-4c2b-91ce-c025ffc332cf",
        "colab": {
          "base_uri": "https://localhost:8080/",
          "height": 282
        }
      },
      "source": [
        "# 검증 손실 그리기\n",
        "import matplotlib.pyplot as plt\n",
        "\n",
        "history_dict3 = history3.history\n",
        "loss3 = history_dict3['val_loss']\n",
        "\n",
        "epochs = range(1, len(loss1)+1)\n",
        "\n",
        "plt.plot(epochs, loss1, 'b+', label='Orininal model')  \n",
        "plt.plot(epochs, loss3, 'bo', label='Bigger model') \n",
        "plt.xlabel('Epochs')\n",
        "plt.ylabel('Validation Loss')\n",
        "plt.legend()\n",
        "\n",
        "plt.show()"
      ],
      "execution_count": 22,
      "outputs": [
        {
          "output_type": "display_data",
          "data": {
            "image/png": "[encoded data removed]",
            "text/plain": [
              "<Figure size 432x288 with 1 Axes>"
            ]
          },
          "metadata": {
            "tags": [],
            "needs_background": "light"
          }
        }
      ]
    },
    {
      "cell_type": "markdown",
      "metadata": {
        "id": "tNorFuQ9-fU4"
      },
      "source": [
        "* 용량이 큰 네트워크는 첫 번째 에폭 이후 거의 바로 과대적합이 시작\n",
        "* 검증 손실도 매우 불안정"
      ]
    },
    {
      "cell_type": "markdown",
      "metadata": {
        "id": "LSAoeJ4U0RsP"
      },
      "source": [
        "## 3. 가중치 규제 추가"
      ]
    },
    {
      "cell_type": "code",
      "metadata": {
        "id": "w9_3ZHMx-UUx"
      },
      "source": [
        "# Regularizer 구현은 이렇게 한다.\n",
        "from keras import regularizers\n",
        "\n",
        "rmodel = models.Sequential()\n",
        "rmodel.add(layers.Dense(16, activation='relu', kernel_regularizer= regularizers.l2(0.001), input_shape = (10000, )))\n",
        "rmodel.add(layers.Dense(16, activation='relu', kernel_regularizer= regularizers.l2(0.001)))\n",
        "rmodel.add(layers.Dense(1, activation='sigmoid'))\n",
        "\n",
        "rmodel.compile(optimizer = 'rmsprop', loss = 'binary_crossentropy', metrics = ['accuracy'])\n",
        "\n",
        "history4 = rmodel.fit(partial_x_train, partial_y_train, batch_size=128, epochs= 20, validation_data=(x_val, y_val), verbose=0)"
      ],
      "execution_count": 25,
      "outputs": []
    },
    {
      "cell_type": "code",
      "metadata": {
        "id": "7VjhCA5a-7fN",
        "outputId": "7482d745-c8bd-43cf-9b09-93497bad8dad",
        "colab": {
          "base_uri": "https://localhost:8080/",
          "height": 279
        }
      },
      "source": [
        "# 검증 손실 그리기\n",
        "import matplotlib.pyplot as plt\n",
        "\n",
        "history_dict4 = history4.history\n",
        "loss4 = history_dict4['val_loss']\n",
        "\n",
        "epochs = range(1, len(loss1)+1)\n",
        "\n",
        "plt.plot(epochs, loss1, 'b+', label='Orininal model')  \n",
        "plt.plot(epochs, loss4, 'bo', label='L2-regularized model') \n",
        "plt.xlabel('Epochs')\n",
        "plt.ylabel('Validation Loss')\n",
        "plt.legend()\n",
        "\n",
        "plt.show()"
      ],
      "execution_count": 26,
      "outputs": [
        {
          "output_type": "display_data",
          "data": {
            "image/png": "[encoded data removed]",
            "text/plain": [
              "<Figure size 432x288 with 1 Axes>"
            ]
          },
          "metadata": {
            "tags": [],
            "needs_background": "light"
          }
        }
      ]
    },
    {
      "cell_type": "markdown",
      "metadata": {
        "id": "4N4snF6z_Mt_"
      },
      "source": [
        "## 4. 드롭아웃"
      ]
    },
    {
      "cell_type": "code",
      "metadata": {
        "id": "qXTprPtb_Bv0"
      },
      "source": [
        "rmodel = models.Sequential()\n",
        "rmodel.add(layers.Dense(16, activation='relu', kernel_regularizer= regularizers.l2(0.001), input_shape = (10000, )))\n",
        "rmodel.add(layers.Dropout(0.5))\n",
        "rmodel.add(layers.Dense(16, activation='relu', kernel_regularizer= regularizers.l2(0.001)))\n",
        "rmodel.add(layers.Dropout(0.5))\n",
        "rmodel.add(layers.Dense(1, activation='sigmoid'))\n",
        "\n",
        "\n",
        "rmodel.compile(optimizer = 'rmsprop', loss = 'binary_crossentropy', metrics = ['accuracy'])\n",
        "\n",
        "history5 = rmodel.fit(partial_x_train, partial_y_train, batch_size=128, epochs= 20, validation_data=(x_val, y_val), verbose=0)"
      ],
      "execution_count": 27,
      "outputs": []
    },
    {
      "cell_type": "code",
      "metadata": {
        "id": "LAqN0dOa2ZLB",
        "outputId": "8d50fb7a-a942-48a4-e0bd-421bd9ea38d9",
        "colab": {
          "base_uri": "https://localhost:8080/",
          "height": 279
        }
      },
      "source": [
        "# 검증 손실 그리기\n",
        "import matplotlib.pyplot as plt\n",
        "\n",
        "history_dict5 = history5.history\n",
        "loss5 = history_dict5['val_loss']\n",
        "\n",
        "epochs = range(1, len(loss1)+1)\n",
        "\n",
        "plt.plot(epochs, loss1, 'b+', label='Orininal model')  \n",
        "plt.plot(epochs, loss5, 'bo', label='Dropout-regularized model') \n",
        "plt.xlabel('Epochs')\n",
        "plt.ylabel('Validation Loss')\n",
        "plt.legend()\n",
        "\n",
        "plt.show()"
      ],
      "execution_count": 29,
      "outputs": [
        {
          "output_type": "display_data",
          "data": {
            "image/png": "[encoded data removed]",
            "text/plain": [
              "<Figure size 432x288 with 1 Axes>"
            ]
          },
          "metadata": {
            "tags": [],
            "needs_background": "light"
          }
        }
      ]
    }
  ]
}